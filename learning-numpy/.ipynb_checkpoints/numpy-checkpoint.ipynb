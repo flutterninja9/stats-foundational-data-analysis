{
 "cells": [
  {
   "cell_type": "markdown",
   "id": "82fb69b3-da0f-4f1c-b64a-76d91397812b",
   "metadata": {},
   "source": [
    "# Learning numpy"
   ]
  },
  {
   "cell_type": "code",
   "execution_count": 8,
   "id": "2558c1f4-93e3-4342-a59c-35294ad176d5",
   "metadata": {},
   "outputs": [],
   "source": [
    "import numpy as np\n",
    "import matplotlib.pyplot as plt"
   ]
  },
  {
   "cell_type": "code",
   "execution_count": 3,
   "id": "b176d333-5e4a-4916-be77-08c4c1a8e03d",
   "metadata": {},
   "outputs": [
    {
     "data": {
      "text/plain": [
       "array([0.        , 0.11111111, 0.22222222, 0.33333333, 0.44444444,\n",
       "       0.55555556, 0.66666667, 0.77777778, 0.88888889, 1.        ])"
      ]
     },
     "execution_count": 3,
     "metadata": {},
     "output_type": "execute_result"
    }
   ],
   "source": [
    "np.linspace(0, 1, 10) # 10 numbers between start and end (end-included by default)"
   ]
  },
  {
   "cell_type": "code",
   "execution_count": 4,
   "id": "2e3dc0dd-6d7c-4d57-893d-bf40099c5c47",
   "metadata": {},
   "outputs": [
    {
     "data": {
      "text/plain": [
       "array([[1., 0., 0., 0.],\n",
       "       [0., 1., 0., 0.],\n",
       "       [0., 0., 1., 0.],\n",
       "       [0., 0., 0., 1.]])"
      ]
     },
     "execution_count": 4,
     "metadata": {},
     "output_type": "execute_result"
    }
   ],
   "source": [
    "np.eye(4) # Identity matrix"
   ]
  },
  {
   "cell_type": "code",
   "execution_count": 11,
   "id": "f70d2f4f-0e59-44f8-bd4b-55c7a17e7a30",
   "metadata": {},
   "outputs": [
    {
     "data": {
      "text/plain": [
       "array([0.82563167, 0.73390129, 0.58595208, 0.23407424, 0.34961106,\n",
       "       0.38869115, 0.93332562, 0.11855036, 0.9414273 , 0.97370704,\n",
       "       0.44937903, 0.95575661, 0.90842609, 0.23638036, 0.30605268,\n",
       "       0.14241085, 0.29623086, 0.32289692, 0.5866737 , 0.9200351 ,\n",
       "       0.20242584, 0.27725435, 0.81879299, 0.49945824, 0.03765199,\n",
       "       0.53186053, 0.19177526, 0.74839707, 0.26648765, 0.2976778 ,\n",
       "       0.2469415 , 0.55701822, 0.12375382, 0.58524702, 0.88751028,\n",
       "       0.56675073, 0.66905077, 0.1009966 , 0.36563969, 0.4409568 ,\n",
       "       0.1174662 , 0.17835583, 0.71418534, 0.56391381, 0.83930008,\n",
       "       0.34089879, 0.2183382 , 0.7681063 , 0.50621693, 0.47896277,\n",
       "       0.28408364, 0.1151477 , 0.72861046, 0.044391  , 0.99530177,\n",
       "       0.10649023, 0.75411081, 0.92704797, 0.64178663, 0.20243021,\n",
       "       0.30631715, 0.36854343, 0.86312835, 0.74885332, 0.04410009,\n",
       "       0.54421532, 0.36022115, 0.76041112, 0.76484991, 0.33185563,\n",
       "       0.56358202, 0.40593931, 0.14906811, 0.36643781, 0.80331246,\n",
       "       0.60321139, 0.82375345, 0.89030281, 0.33132637, 0.55471025,\n",
       "       0.77420829, 0.42538394, 0.2218856 , 0.37989414, 0.95518518,\n",
       "       0.21775852, 0.64828088, 0.60339161, 0.44433326, 0.59934444,\n",
       "       0.23382314, 0.78696319, 0.89673735, 0.4104138 , 0.65964304,\n",
       "       0.93058626, 0.48022891, 0.52621997, 0.84971883, 0.60123002])"
      ]
     },
     "execution_count": 11,
     "metadata": {},
     "output_type": "execute_result"
    }
   ],
   "source": [
    "np.random.rand(10) # n random number/s"
   ]
  },
  {
   "cell_type": "code",
   "execution_count": 12,
   "id": "865bc3da-ba2c-43b0-91d5-bded2dca8598",
   "metadata": {},
   "outputs": [
    {
     "data": {
      "image/png": "[encoded data removed]",
      "text/plain": [
       "<Figure size 640x480 with 1 Axes>"
      ]
     },
     "metadata": {},
     "output_type": "display_data"
    }
   ],
   "source": [
    "df = np.random.randn(1000) # Gives random numbers which follow stadered normal destribution pattern\n",
    "plt.hist(x=df, bins=30)\n",
    "plt.show()"
   ]
  },
  {
   "cell_type": "code",
   "execution_count": null,
   "id": "367d5fc2-99a2-4a61-94c0-e4cff329dba6",
   "metadata": {},
   "outputs": [],
   "source": []
  }
 ],
 "metadata": {
  "kernelspec": {
   "display_name": "myenv",
   "language": "python",
   "name": "myenv"
  },
  "language_info": {
   "codemirror_mode": {
    "name": "ipython",
    "version": 3
   },
   "file_extension": ".py",
   "mimetype": "text/x-python",
   "name": "python",
   "nbconvert_exporter": "python",
   "pygments_lexer": "ipython3",
   "version": "3.13.2"
  }
 },
 "nbformat": 4,
 "nbformat_minor": 5
}
