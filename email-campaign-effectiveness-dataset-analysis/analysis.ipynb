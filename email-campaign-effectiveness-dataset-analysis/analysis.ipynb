{
 "cells": [
  {
   "cell_type": "code",
   "execution_count": 87,
   "id": "82e5ee14-536a-417e-9beb-0c59e7254098",
   "metadata": {},
   "outputs": [],
   "source": [
    "import numpy as np\n",
    "import pandas as pd\n",
    "import matplotlib.pyplot as plt\n",
    "import seaborn as sns"
   ]
  },
  {
   "cell_type": "code",
   "execution_count": 88,
   "id": "6cf78a12-5fc2-4eed-8ce7-1c76d55be7a9",
   "metadata": {},
   "outputs": [
    {
     "data": {
      "text/html": [
       "<div>\n",
       "<style scoped>\n",
       "    .dataframe tbody tr th:only-of-type {\n",
       "        vertical-align: middle;\n",
       "    }\n",
       "\n",
       "    .dataframe tbody tr th {\n",
       "        vertical-align: top;\n",
       "    }\n",
       "\n",
       "    .dataframe thead th {\n",
       "        text-align: right;\n",
       "    }\n",
       "</style>\n",
       "<table border=\"1\" class=\"dataframe\">\n",
       "  <thead>\n",
       "    <tr style=\"text-align: right;\">\n",
       "      <th></th>\n",
       "      <th>age</th>\n",
       "      <th>job</th>\n",
       "      <th>marital</th>\n",
       "      <th>education</th>\n",
       "      <th>default</th>\n",
       "      <th>balance</th>\n",
       "      <th>housing</th>\n",
       "      <th>loan</th>\n",
       "      <th>contact</th>\n",
       "      <th>day</th>\n",
       "      <th>month</th>\n",
       "      <th>duration</th>\n",
       "      <th>campaign</th>\n",
       "      <th>pdays</th>\n",
       "      <th>previous</th>\n",
       "      <th>poutcome</th>\n",
       "      <th>y</th>\n",
       "    </tr>\n",
       "  </thead>\n",
       "  <tbody>\n",
       "    <tr>\n",
       "      <th>0</th>\n",
       "      <td>58</td>\n",
       "      <td>management</td>\n",
       "      <td>married</td>\n",
       "      <td>tertiary</td>\n",
       "      <td>no</td>\n",
       "      <td>2143</td>\n",
       "      <td>yes</td>\n",
       "      <td>no</td>\n",
       "      <td>unknown</td>\n",
       "      <td>5</td>\n",
       "      <td>may</td>\n",
       "      <td>261</td>\n",
       "      <td>1</td>\n",
       "      <td>-1</td>\n",
       "      <td>0</td>\n",
       "      <td>unknown</td>\n",
       "      <td>no</td>\n",
       "    </tr>\n",
       "    <tr>\n",
       "      <th>1</th>\n",
       "      <td>44</td>\n",
       "      <td>technician</td>\n",
       "      <td>single</td>\n",
       "      <td>secondary</td>\n",
       "      <td>no</td>\n",
       "      <td>29</td>\n",
       "      <td>yes</td>\n",
       "      <td>no</td>\n",
       "      <td>unknown</td>\n",
       "      <td>5</td>\n",
       "      <td>may</td>\n",
       "      <td>151</td>\n",
       "      <td>1</td>\n",
       "      <td>-1</td>\n",
       "      <td>0</td>\n",
       "      <td>unknown</td>\n",
       "      <td>no</td>\n",
       "    </tr>\n",
       "    <tr>\n",
       "      <th>2</th>\n",
       "      <td>33</td>\n",
       "      <td>entrepreneur</td>\n",
       "      <td>married</td>\n",
       "      <td>secondary</td>\n",
       "      <td>no</td>\n",
       "      <td>2</td>\n",
       "      <td>yes</td>\n",
       "      <td>yes</td>\n",
       "      <td>unknown</td>\n",
       "      <td>5</td>\n",
       "      <td>may</td>\n",
       "      <td>76</td>\n",
       "      <td>1</td>\n",
       "      <td>-1</td>\n",
       "      <td>0</td>\n",
       "      <td>unknown</td>\n",
       "      <td>no</td>\n",
       "    </tr>\n",
       "    <tr>\n",
       "      <th>3</th>\n",
       "      <td>47</td>\n",
       "      <td>blue-collar</td>\n",
       "      <td>married</td>\n",
       "      <td>unknown</td>\n",
       "      <td>no</td>\n",
       "      <td>1506</td>\n",
       "      <td>yes</td>\n",
       "      <td>no</td>\n",
       "      <td>unknown</td>\n",
       "      <td>5</td>\n",
       "      <td>may</td>\n",
       "      <td>92</td>\n",
       "      <td>1</td>\n",
       "      <td>-1</td>\n",
       "      <td>0</td>\n",
       "      <td>unknown</td>\n",
       "      <td>no</td>\n",
       "    </tr>\n",
       "    <tr>\n",
       "      <th>4</th>\n",
       "      <td>33</td>\n",
       "      <td>unknown</td>\n",
       "      <td>single</td>\n",
       "      <td>unknown</td>\n",
       "      <td>no</td>\n",
       "      <td>1</td>\n",
       "      <td>no</td>\n",
       "      <td>no</td>\n",
       "      <td>unknown</td>\n",
       "      <td>5</td>\n",
       "      <td>may</td>\n",
       "      <td>198</td>\n",
       "      <td>1</td>\n",
       "      <td>-1</td>\n",
       "      <td>0</td>\n",
       "      <td>unknown</td>\n",
       "      <td>no</td>\n",
       "    </tr>\n",
       "  </tbody>\n",
       "</table>\n",
       "</div>"
      ],
      "text/plain": [
       "   age           job  marital  education  ... pdays  previous poutcome   y\n",
       "0   58    management  married   tertiary  ...    -1         0  unknown  no\n",
       "1   44    technician   single  secondary  ...    -1         0  unknown  no\n",
       "2   33  entrepreneur  married  secondary  ...    -1         0  unknown  no\n",
       "3   47   blue-collar  married    unknown  ...    -1         0  unknown  no\n",
       "4   33       unknown   single    unknown  ...    -1         0  unknown  no\n",
       "\n",
       "[5 rows x 17 columns]"
      ]
     },
     "execution_count": 88,
     "metadata": {},
     "output_type": "execute_result"
    }
   ],
   "source": [
    "df = pd.read_csv('bank-full.csv', delimiter=\";\")\n",
    "df.head()"
   ]
  },
  {
   "cell_type": "code",
   "execution_count": 89,
   "id": "a03e9bfc-3dde-4d14-a141-11e5d6d8d216",
   "metadata": {},
   "outputs": [
    {
     "name": "stdout",
     "output_type": "stream",
     "text": [
      "       age         job   marital  education  ... pdays  previous poutcome   y\n",
      "6367    28  unemployed   married  secondary  ...    -1         0  unknown  no\n",
      "8215    46  technician   married  secondary  ...    -1         0  unknown  no\n",
      "19376   57  technician   married   tertiary  ...    -1         0  unknown  no\n",
      "37998   27      admin.    single  secondary  ...    -1         0  unknown  no\n",
      "41843   83     retired  divorced    primary  ...    -1         0  unknown  no\n",
      "\n",
      "[5 rows x 17 columns]\n",
      "       age          job   marital  education  ... pdays  previous poutcome   y\n",
      "3100    41  blue-collar   married    primary  ...    -1         0  unknown  no\n",
      "1766    47  blue-collar  divorced  secondary  ...    -1         0  unknown  no\n",
      "29872   29   technician  divorced  secondary  ...    -1         0  unknown  no\n",
      "3786    29  blue-collar    single  secondary  ...    -1         0  unknown  no\n",
      "41075   55      retired   married    primary  ...    -1         0  unknown  no\n",
      "\n",
      "[5 rows x 17 columns]\n"
     ]
    }
   ],
   "source": [
    "# Task: Use the dataset to estimate the observed conversion rate difference between two groups.\n",
    "# To simulate A/B test lets split the dataset into 2 groups\n",
    "\n",
    "# randomize df\n",
    "df = df.sample(frac=1, random_state=45)\n",
    "\n",
    "# split into 2 halves\n",
    "mid = len(df) // 2\n",
    "email_a_customers_df = df.iloc[:mid].copy()\n",
    "email_b_customers_df = df.iloc[mid:].copy()\n",
    "\n",
    "print(email_a_customers_df.head())\n",
    "print(email_b_customers_df.head())"
   ]
  },
  {
   "cell_type": "code",
   "execution_count": 90,
   "id": "c17d90f7-31e5-4528-92df-76ea9a24f78a",
   "metadata": {},
   "outputs": [
    {
     "data": {
      "image/png": "[encoded data removed]",
      "text/plain": [
       "<Figure size 640x480 with 1 Axes>"
      ]
     },
     "metadata": {},
     "output_type": "display_data"
    },
    {
     "data": {
      "image/png": "[encoded data removed]",
      "text/plain": [
       "<Figure size 640x480 with 1 Axes>"
      ]
     },
     "metadata": {},
     "output_type": "display_data"
    }
   ],
   "source": [
    "# Lets compare stats of success stats of customers who were sent email a and who were sent email b\n",
    "\n",
    "sns.countplot(x = email_a_customers_df['y'])\n",
    "plt.show()\n",
    "\n",
    "sns.countplot(x = email_b_customers_df['y'])\n",
    "plt.show()"
   ]
  },
  {
   "cell_type": "code",
   "execution_count": 91,
   "id": "8c01dcfb-d11b-4531-9dab-4bbf9cb8c64a",
   "metadata": {},
   "outputs": [
    {
     "name": "stdout",
     "output_type": "stream",
     "text": [
      "Success rate of email a: 11.687679716876797\n",
      "Success rate of email b: 11.709280721932231\n"
     ]
    }
   ],
   "source": [
    "# Conversion rates of group a and group b\n",
    "\n",
    "group_a_positive = email_a_customers_df[email_a_customers_df['y'] == \"yes\"]\n",
    "group_a_positive_rate = len(group_a_positive)/len(email_a_customers_df) * 100\n",
    "\n",
    "print(f'Success rate of email a: {group_a_positive_rate}')\n",
    "\n",
    "\n",
    "\n",
    "group_b_positive = email_b_customers_df[email_b_customers_df['y'] == \"yes\"]\n",
    "group_b_positive_rate = len(group_b_positive)/len(email_b_customers_df) * 100\n",
    "\n",
    "print(f'Success rate of email b: {group_b_positive_rate}') # As obsvered email a had a very little higher rate than email b"
   ]
  },
  {
   "cell_type": "code",
   "execution_count": 94,
   "id": "1eaa8be9-0108-4c3d-af47-933cec148f33",
   "metadata": {},
   "outputs": [
    {
     "ename": "ValueError",
     "evalue": "Cannot detect an effect-size of 0. Try changing your effect-size.",
     "output_type": "error",
     "traceback": [
      "\u001b[31m---------------------------------------------------------------------------\u001b[39m",
      "\u001b[31mValueError\u001b[39m                                Traceback (most recent call last)",
      "\u001b[36mCell\u001b[39m\u001b[36m \u001b[39m\u001b[32mIn[94]\u001b[39m\u001b[32m, line 15\u001b[39m\n\u001b[32m     11\u001b[39m effect_size = proportion_effectsize(mean_a, mean_b)\n\u001b[32m     13\u001b[39m power_analysis = NormalIndPower()\n\u001b[32m---> \u001b[39m\u001b[32m15\u001b[39m res = \u001b[43mpower_analysis\u001b[49m\u001b[43m.\u001b[49m\u001b[43msolve_power\u001b[49m\u001b[43m(\u001b[49m\u001b[43malpha\u001b[49m\u001b[43m=\u001b[49m\u001b[32;43m0.05\u001b[39;49m\u001b[43m,\u001b[49m\u001b[43m \u001b[49m\u001b[43mpower\u001b[49m\u001b[43m=\u001b[49m\u001b[32;43m0.8\u001b[39;49m\u001b[43m,\u001b[49m\u001b[43m \u001b[49m\u001b[43meffect_size\u001b[49m\u001b[43m=\u001b[49m\u001b[43meffect_size\u001b[49m\u001b[43m,\u001b[49m\u001b[43m \u001b[49m\u001b[43malternative\u001b[49m\u001b[43m=\u001b[49m\u001b[33;43m'\u001b[39;49m\u001b[33;43mlarger\u001b[39;49m\u001b[33;43m'\u001b[39;49m\u001b[43m)\u001b[49m\n\u001b[32m     16\u001b[39m res.as_integer_ratio()\n\u001b[32m     18\u001b[39m \u001b[38;5;66;03m# In most of the cases, as the effect size if 0 it means there's no real accountable difference between these 2 email. And both the datasets have almost same destribution\u001b[39;00m\n",
      "\u001b[36mFile \u001b[39m\u001b[32m~/stats-foundational-data-analysis/.venv/lib/python3.13/site-packages/statsmodels/stats/power.py:959\u001b[39m, in \u001b[36mNormalIndPower.solve_power\u001b[39m\u001b[34m(self, effect_size, nobs1, alpha, power, ratio, alternative)\u001b[39m\n\u001b[32m    903\u001b[39m \u001b[38;5;28;01mdef\u001b[39;00m\u001b[38;5;250m \u001b[39m\u001b[34msolve_power\u001b[39m(\u001b[38;5;28mself\u001b[39m, effect_size=\u001b[38;5;28;01mNone\u001b[39;00m, nobs1=\u001b[38;5;28;01mNone\u001b[39;00m, alpha=\u001b[38;5;28;01mNone\u001b[39;00m, power=\u001b[38;5;28;01mNone\u001b[39;00m,\n\u001b[32m    904\u001b[39m                 ratio=\u001b[32m1.\u001b[39m, alternative=\u001b[33m'\u001b[39m\u001b[33mtwo-sided\u001b[39m\u001b[33m'\u001b[39m):\n\u001b[32m    905\u001b[39m \u001b[38;5;250m    \u001b[39m\u001b[33;03m'''solve for any one parameter of the power of a two sample z-test\u001b[39;00m\n\u001b[32m    906\u001b[39m \n\u001b[32m    907\u001b[39m \u001b[33;03m    for z-test the keywords are:\u001b[39;00m\n\u001b[32m   (...)\u001b[39m\u001b[32m    957\u001b[39m \n\u001b[32m    958\u001b[39m \u001b[33;03m    '''\u001b[39;00m\n\u001b[32m--> \u001b[39m\u001b[32m959\u001b[39m     \u001b[38;5;28;01mreturn\u001b[39;00m \u001b[38;5;28;43msuper\u001b[39;49m\u001b[43m(\u001b[49m\u001b[43m)\u001b[49m\u001b[43m.\u001b[49m\u001b[43msolve_power\u001b[49m\u001b[43m(\u001b[49m\u001b[43meffect_size\u001b[49m\u001b[43m=\u001b[49m\u001b[43meffect_size\u001b[49m\u001b[43m,\u001b[49m\n\u001b[32m    960\u001b[39m \u001b[43m                                                  \u001b[49m\u001b[43mnobs1\u001b[49m\u001b[43m=\u001b[49m\u001b[43mnobs1\u001b[49m\u001b[43m,\u001b[49m\n\u001b[32m    961\u001b[39m \u001b[43m                                                  \u001b[49m\u001b[43malpha\u001b[49m\u001b[43m=\u001b[49m\u001b[43malpha\u001b[49m\u001b[43m,\u001b[49m\n\u001b[32m    962\u001b[39m \u001b[43m                                                  \u001b[49m\u001b[43mpower\u001b[49m\u001b[43m=\u001b[49m\u001b[43mpower\u001b[49m\u001b[43m,\u001b[49m\n\u001b[32m    963\u001b[39m \u001b[43m                                                  \u001b[49m\u001b[43mratio\u001b[49m\u001b[43m=\u001b[49m\u001b[43mratio\u001b[49m\u001b[43m,\u001b[49m\n\u001b[32m    964\u001b[39m \u001b[43m                                                  \u001b[49m\u001b[43malternative\u001b[49m\u001b[43m=\u001b[49m\u001b[43malternative\u001b[49m\u001b[43m)\u001b[49m\n",
      "\u001b[36mFile \u001b[39m\u001b[32m~/stats-foundational-data-analysis/.venv/lib/python3.13/site-packages/statsmodels/stats/power.py:454\u001b[39m, in \u001b[36mPower.solve_power\u001b[39m\u001b[34m(self, **kwds)\u001b[39m\n\u001b[32m    452\u001b[39m         \u001b[38;5;28;01mreturn\u001b[39;00m kwds[\u001b[33m'\u001b[39m\u001b[33mpower\u001b[39m\u001b[33m'\u001b[39m]\n\u001b[32m    453\u001b[39m     \u001b[38;5;28;01melse\u001b[39;00m:\n\u001b[32m--> \u001b[39m\u001b[32m454\u001b[39m         \u001b[38;5;28;01mraise\u001b[39;00m \u001b[38;5;167;01mValueError\u001b[39;00m(\u001b[33m'\u001b[39m\u001b[33mCannot detect an effect-size of 0. Try changing your effect-size.\u001b[39m\u001b[33m'\u001b[39m)\n\u001b[32m    457\u001b[39m \u001b[38;5;28mself\u001b[39m._counter = \u001b[32m0\u001b[39m\n\u001b[32m    459\u001b[39m \u001b[38;5;28;01mdef\u001b[39;00m\u001b[38;5;250m \u001b[39m\u001b[34mfunc\u001b[39m(x):\n",
      "\u001b[31mValueError\u001b[39m: Cannot detect an effect-size of 0. Try changing your effect-size."
     ]
    }
   ],
   "source": [
    "# Task: Determine the minimum sample size required to detect a significant difference (e.g., with α = 0.05, power = 0.8) in conversion rates.\n",
    "from statsmodels.stats.power import NormalIndPower\n",
    "from statsmodels.stats.proportion import proportion_effectsize\n",
    "\n",
    "email_a_customers_df['y'] = email_a_customers_df['y'].apply(lambda x: 0 if x == 'no' else 1)\n",
    "email_b_customers_df['y'] = email_b_customers_df['y'].apply(lambda x: 0 if x == 'no' else 1)\n",
    "\n",
    "mean_a =  email_a_customers_df['y'].mean()\n",
    "mean_b =  email_b_customers_df['y'].mean()\n",
    "\n",
    "effect_size = proportion_effectsize(mean_a, mean_b)\n",
    "\n",
    "power_analysis = NormalIndPower()\n",
    "\n",
    "res = power_analysis.solve_power(alpha=0.05, power=0.8, effect_size=effect_size, alternative='larger')\n",
    "res.as_integer_ratio()\n",
    "\n",
    "# In most of the cases, as the effect size if 0 it means there's no real accountable difference between these 2 email. And both the datasets have almost same destribution"
   ]
  },
  {
   "cell_type": "code",
   "execution_count": null,
   "id": "e0254a7e-0228-490a-a252-1d83420cad2e",
   "metadata": {},
   "outputs": [],
   "source": []
  }
 ],
 "metadata": {
  "kernelspec": {
   "display_name": ".venv",
   "language": "python",
   "name": "python3"
  },
  "language_info": {
   "codemirror_mode": {
    "name": "ipython",
    "version": 3
   },
   "file_extension": ".py",
   "mimetype": "text/x-python",
   "name": "python",
   "nbconvert_exporter": "python",
   "pygments_lexer": "ipython3",
   "version": "3.13.2"
  }
 },
 "nbformat": 4,
 "nbformat_minor": 5
}
