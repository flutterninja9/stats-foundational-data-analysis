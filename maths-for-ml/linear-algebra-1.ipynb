{
 "cells": [
  {
   "cell_type": "markdown",
   "id": "0171d428-50ec-4df9-adaa-24f035378077",
   "metadata": {},
   "source": [
    "#### Vectore operations"
   ]
  },
  {
   "cell_type": "code",
   "execution_count": 1,
   "id": "057e06a3-1aeb-4a4b-9592-3c1456837ce1",
   "metadata": {},
   "outputs": [],
   "source": [
    "import numpy as np"
   ]
  },
  {
   "cell_type": "code",
   "execution_count": 2,
   "id": "15f178f7-96b2-451e-af15-7bb887d57750",
   "metadata": {},
   "outputs": [],
   "source": [
    "vector = np.array([1,2])"
   ]
  },
  {
   "cell_type": "code",
   "execution_count": 3,
   "id": "05e5bd18-3784-4dfc-ac56-29478337fa3d",
   "metadata": {},
   "outputs": [
    {
     "name": "stdout",
     "output_type": "stream",
     "text": [
      "[1 2]\n"
     ]
    }
   ],
   "source": [
    "print(vector)"
   ]
  },
  {
   "cell_type": "code",
   "execution_count": 4,
   "id": "2c904e64-ccc4-4307-8758-e05bb859e1ed",
   "metadata": {},
   "outputs": [],
   "source": [
    "#### Operations"
   ]
  },
  {
   "cell_type": "code",
   "execution_count": 7,
   "id": "3044806a-e228-482d-a085-479372a84727",
   "metadata": {},
   "outputs": [
    {
     "data": {
      "text/plain": [
       "array([4, 6])"
      ]
     },
     "execution_count": 7,
     "metadata": {},
     "output_type": "execute_result"
    }
   ],
   "source": [
    "vec1 = np.array([1,2])\n",
    "vec2 = np.array([3,4])\n",
    "\n",
    "vec1 + vec2"
   ]
  },
  {
   "cell_type": "code",
   "execution_count": 8,
   "id": "f6dcafcf-6aee-48a4-a6c3-3bd6256af672",
   "metadata": {},
   "outputs": [
    {
     "data": {
      "text/plain": [
       "array([-2, -2])"
      ]
     },
     "execution_count": 8,
     "metadata": {},
     "output_type": "execute_result"
    }
   ],
   "source": [
    "vec1 - vec2"
   ]
  },
  {
   "cell_type": "code",
   "execution_count": 9,
   "id": "99a5b6dc-5557-4a6f-85d6-f47a1fea837d",
   "metadata": {},
   "outputs": [
    {
     "data": {
      "text/plain": [
       "array([2, 4])"
      ]
     },
     "execution_count": 9,
     "metadata": {},
     "output_type": "execute_result"
    }
   ],
   "source": [
    "2*vec1"
   ]
  },
  {
   "cell_type": "code",
   "execution_count": 11,
   "id": "d2f199d3-5441-4683-921c-14ebb39178d2",
   "metadata": {},
   "outputs": [
    {
     "data": {
      "text/plain": [
       "np.int64(11)"
      ]
     },
     "execution_count": 11,
     "metadata": {},
     "output_type": "execute_result"
    }
   ],
   "source": [
    "np.dot(vec1, vec2)"
   ]
  },
  {
   "cell_type": "code",
   "execution_count": null,
   "id": "ff1edca0-ebfe-4907-a854-df6aec653139",
   "metadata": {},
   "outputs": [],
   "source": []
  }
 ],
 "metadata": {
  "kernelspec": {
   "display_name": "myenv",
   "language": "python",
   "name": "myenv"
  },
  "language_info": {
   "codemirror_mode": {
    "name": "ipython",
    "version": 3
   },
   "file_extension": ".py",
   "mimetype": "text/x-python",
   "name": "python",
   "nbconvert_exporter": "python",
   "pygments_lexer": "ipython3",
   "version": "3.13.2"
  }
 },
 "nbformat": 4,
 "nbformat_minor": 5
}
