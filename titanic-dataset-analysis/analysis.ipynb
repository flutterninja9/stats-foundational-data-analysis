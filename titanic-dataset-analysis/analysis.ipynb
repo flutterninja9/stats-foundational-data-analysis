{
 "cells": [
  {
   "cell_type": "code",
   "execution_count": 1,
   "id": "8f9fe509-4ae9-42a5-9da6-90f728b7388f",
   "metadata": {},
   "outputs": [],
   "source": [
    "import pandas as pd\n",
    "import matplotlib.pyplot as plt\n",
    "import seaborn as sns\n",
    "import kagglehub"
   ]
  },
  {
   "cell_type": "code",
   "execution_count": 2,
   "id": "0cd1eaa2-3aa2-468d-9886-1d3ffd9ec7e6",
   "metadata": {},
   "outputs": [
    {
     "name": "stdout",
     "output_type": "stream",
     "text": [
      "Warning: Looks like you're using an outdated `kagglehub` version (installed: 0.3.10), please consider upgrading to the latest version (0.3.11).\n"
     ]
    }
   ],
   "source": [
    "path = kagglehub.dataset_download(\"yasserh/titanic-dataset\", path=\"Titanic-Dataset.csv\")"
   ]
  },
  {
   "cell_type": "code",
   "execution_count": 3,
   "id": "e84fcc38-b32e-4af4-9103-48be3188c3ba",
   "metadata": {},
   "outputs": [
    {
     "data": {
      "text/html": [
       "<div>\n",
       "<style scoped>\n",
       "    .dataframe tbody tr th:only-of-type {\n",
       "        vertical-align: middle;\n",
       "    }\n",
       "\n",
       "    .dataframe tbody tr th {\n",
       "        vertical-align: top;\n",
       "    }\n",
       "\n",
       "    .dataframe thead th {\n",
       "        text-align: right;\n",
       "    }\n",
       "</style>\n",
       "<table border=\"1\" class=\"dataframe\">\n",
       "  <thead>\n",
       "    <tr style=\"text-align: right;\">\n",
       "      <th></th>\n",
       "      <th>PassengerId</th>\n",
       "      <th>Survived</th>\n",
       "      <th>Pclass</th>\n",
       "      <th>Name</th>\n",
       "      <th>Sex</th>\n",
       "      <th>Age</th>\n",
       "      <th>SibSp</th>\n",
       "      <th>Parch</th>\n",
       "      <th>Ticket</th>\n",
       "      <th>Fare</th>\n",
       "      <th>Cabin</th>\n",
       "      <th>Embarked</th>\n",
       "    </tr>\n",
       "  </thead>\n",
       "  <tbody>\n",
       "    <tr>\n",
       "      <th>0</th>\n",
       "      <td>1</td>\n",
       "      <td>0</td>\n",
       "      <td>3</td>\n",
       "      <td>Braund, Mr. Owen Harris</td>\n",
       "      <td>male</td>\n",
       "      <td>22.0</td>\n",
       "      <td>1</td>\n",
       "      <td>0</td>\n",
       "      <td>A/5 21171</td>\n",
       "      <td>7.2500</td>\n",
       "      <td>NaN</td>\n",
       "      <td>S</td>\n",
       "    </tr>\n",
       "    <tr>\n",
       "      <th>1</th>\n",
       "      <td>2</td>\n",
       "      <td>1</td>\n",
       "      <td>1</td>\n",
       "      <td>Cumings, Mrs. John Bradley (Florence Briggs Th...</td>\n",
       "      <td>female</td>\n",
       "      <td>38.0</td>\n",
       "      <td>1</td>\n",
       "      <td>0</td>\n",
       "      <td>PC 17599</td>\n",
       "      <td>71.2833</td>\n",
       "      <td>C85</td>\n",
       "      <td>C</td>\n",
       "    </tr>\n",
       "    <tr>\n",
       "      <th>2</th>\n",
       "      <td>3</td>\n",
       "      <td>1</td>\n",
       "      <td>3</td>\n",
       "      <td>Heikkinen, Miss. Laina</td>\n",
       "      <td>female</td>\n",
       "      <td>26.0</td>\n",
       "      <td>0</td>\n",
       "      <td>0</td>\n",
       "      <td>STON/O2. 3101282</td>\n",
       "      <td>7.9250</td>\n",
       "      <td>NaN</td>\n",
       "      <td>S</td>\n",
       "    </tr>\n",
       "    <tr>\n",
       "      <th>3</th>\n",
       "      <td>4</td>\n",
       "      <td>1</td>\n",
       "      <td>1</td>\n",
       "      <td>Futrelle, Mrs. Jacques Heath (Lily May Peel)</td>\n",
       "      <td>female</td>\n",
       "      <td>35.0</td>\n",
       "      <td>1</td>\n",
       "      <td>0</td>\n",
       "      <td>113803</td>\n",
       "      <td>53.1000</td>\n",
       "      <td>C123</td>\n",
       "      <td>S</td>\n",
       "    </tr>\n",
       "    <tr>\n",
       "      <th>4</th>\n",
       "      <td>5</td>\n",
       "      <td>0</td>\n",
       "      <td>3</td>\n",
       "      <td>Allen, Mr. William Henry</td>\n",
       "      <td>male</td>\n",
       "      <td>35.0</td>\n",
       "      <td>0</td>\n",
       "      <td>0</td>\n",
       "      <td>373450</td>\n",
       "      <td>8.0500</td>\n",
       "      <td>NaN</td>\n",
       "      <td>S</td>\n",
       "    </tr>\n",
       "  </tbody>\n",
       "</table>\n",
       "</div>"
      ],
      "text/plain": [
       "   PassengerId  Survived  Pclass  \\\n",
       "0            1         0       3   \n",
       "1            2         1       1   \n",
       "2            3         1       3   \n",
       "3            4         1       1   \n",
       "4            5         0       3   \n",
       "\n",
       "                                                Name     Sex   Age  SibSp  \\\n",
       "0                            Braund, Mr. Owen Harris    male  22.0      1   \n",
       "1  Cumings, Mrs. John Bradley (Florence Briggs Th...  female  38.0      1   \n",
       "2                             Heikkinen, Miss. Laina  female  26.0      0   \n",
       "3       Futrelle, Mrs. Jacques Heath (Lily May Peel)  female  35.0      1   \n",
       "4                           Allen, Mr. William Henry    male  35.0      0   \n",
       "\n",
       "   Parch            Ticket     Fare Cabin Embarked  \n",
       "0      0         A/5 21171   7.2500   NaN        S  \n",
       "1      0          PC 17599  71.2833   C85        C  \n",
       "2      0  STON/O2. 3101282   7.9250   NaN        S  \n",
       "3      0            113803  53.1000  C123        S  \n",
       "4      0            373450   8.0500   NaN        S  "
      ]
     },
     "execution_count": 3,
     "metadata": {},
     "output_type": "execute_result"
    }
   ],
   "source": [
    "df = pd.read_csv(path)\n",
    "df.head()"
   ]
  },
  {
   "cell_type": "code",
   "execution_count": 4,
   "id": "82db14e0-572e-47e1-af77-fa497aac31db",
   "metadata": {},
   "outputs": [
    {
     "data": {
      "text/plain": [
       "Index(['Age', 'Cabin', 'Embarked'], dtype='object')"
      ]
     },
     "execution_count": 4,
     "metadata": {},
     "output_type": "execute_result"
    }
   ],
   "source": [
    "# Find all the columns with null values\n",
    "df_with_nulls = df.columns[df.isna().any()]\n",
    "df_with_nulls"
   ]
  },
  {
   "cell_type": "code",
   "execution_count": 5,
   "id": "7f30cb38-eebf-466a-b8fb-ab0b9e726909",
   "metadata": {},
   "outputs": [
    {
     "data": {
      "text/plain": [
       "(891, 10)"
      ]
     },
     "execution_count": 5,
     "metadata": {},
     "output_type": "execute_result"
    }
   ],
   "source": [
    "# Remove cabin and embarked columns and fill the age with mean values\n",
    "del df['Cabin'], df['Embarked']\n",
    "mean_age = df['Age'].mean()\n",
    "df['Age'] = df['Age'].fillna(value= mean_age)\n",
    "df.shape"
   ]
  },
  {
   "cell_type": "code",
   "execution_count": 6,
   "id": "18575ae5-a368-4f60-9807-e1b3942c8972",
   "metadata": {},
   "outputs": [
    {
     "data": {
      "text/html": [
       "<div>\n",
       "<style scoped>\n",
       "    .dataframe tbody tr th:only-of-type {\n",
       "        vertical-align: middle;\n",
       "    }\n",
       "\n",
       "    .dataframe tbody tr th {\n",
       "        vertical-align: top;\n",
       "    }\n",
       "\n",
       "    .dataframe thead th {\n",
       "        text-align: right;\n",
       "    }\n",
       "</style>\n",
       "<table border=\"1\" class=\"dataframe\">\n",
       "  <thead>\n",
       "    <tr style=\"text-align: right;\">\n",
       "      <th></th>\n",
       "      <th>PassengerId</th>\n",
       "      <th>Survived</th>\n",
       "      <th>Pclass</th>\n",
       "      <th>Age</th>\n",
       "      <th>SibSp</th>\n",
       "      <th>Parch</th>\n",
       "      <th>Fare</th>\n",
       "    </tr>\n",
       "  </thead>\n",
       "  <tbody>\n",
       "    <tr>\n",
       "      <th>count</th>\n",
       "      <td>891.000000</td>\n",
       "      <td>891.000000</td>\n",
       "      <td>891.000000</td>\n",
       "      <td>891.000000</td>\n",
       "      <td>891.000000</td>\n",
       "      <td>891.000000</td>\n",
       "      <td>891.000000</td>\n",
       "    </tr>\n",
       "    <tr>\n",
       "      <th>mean</th>\n",
       "      <td>446.000000</td>\n",
       "      <td>0.383838</td>\n",
       "      <td>2.308642</td>\n",
       "      <td>29.699118</td>\n",
       "      <td>0.523008</td>\n",
       "      <td>0.381594</td>\n",
       "      <td>32.204208</td>\n",
       "    </tr>\n",
       "    <tr>\n",
       "      <th>std</th>\n",
       "      <td>257.353842</td>\n",
       "      <td>0.486592</td>\n",
       "      <td>0.836071</td>\n",
       "      <td>13.002015</td>\n",
       "      <td>1.102743</td>\n",
       "      <td>0.806057</td>\n",
       "      <td>49.693429</td>\n",
       "    </tr>\n",
       "    <tr>\n",
       "      <th>min</th>\n",
       "      <td>1.000000</td>\n",
       "      <td>0.000000</td>\n",
       "      <td>1.000000</td>\n",
       "      <td>0.420000</td>\n",
       "      <td>0.000000</td>\n",
       "      <td>0.000000</td>\n",
       "      <td>0.000000</td>\n",
       "    </tr>\n",
       "    <tr>\n",
       "      <th>25%</th>\n",
       "      <td>223.500000</td>\n",
       "      <td>0.000000</td>\n",
       "      <td>2.000000</td>\n",
       "      <td>22.000000</td>\n",
       "      <td>0.000000</td>\n",
       "      <td>0.000000</td>\n",
       "      <td>7.910400</td>\n",
       "    </tr>\n",
       "    <tr>\n",
       "      <th>50%</th>\n",
       "      <td>446.000000</td>\n",
       "      <td>0.000000</td>\n",
       "      <td>3.000000</td>\n",
       "      <td>29.699118</td>\n",
       "      <td>0.000000</td>\n",
       "      <td>0.000000</td>\n",
       "      <td>14.454200</td>\n",
       "    </tr>\n",
       "    <tr>\n",
       "      <th>75%</th>\n",
       "      <td>668.500000</td>\n",
       "      <td>1.000000</td>\n",
       "      <td>3.000000</td>\n",
       "      <td>35.000000</td>\n",
       "      <td>1.000000</td>\n",
       "      <td>0.000000</td>\n",
       "      <td>31.000000</td>\n",
       "    </tr>\n",
       "    <tr>\n",
       "      <th>max</th>\n",
       "      <td>891.000000</td>\n",
       "      <td>1.000000</td>\n",
       "      <td>3.000000</td>\n",
       "      <td>80.000000</td>\n",
       "      <td>8.000000</td>\n",
       "      <td>6.000000</td>\n",
       "      <td>512.329200</td>\n",
       "    </tr>\n",
       "  </tbody>\n",
       "</table>\n",
       "</div>"
      ],
      "text/plain": [
       "       PassengerId    Survived      Pclass         Age       SibSp  \\\n",
       "count   891.000000  891.000000  891.000000  891.000000  891.000000   \n",
       "mean    446.000000    0.383838    2.308642   29.699118    0.523008   \n",
       "std     257.353842    0.486592    0.836071   13.002015    1.102743   \n",
       "min       1.000000    0.000000    1.000000    0.420000    0.000000   \n",
       "25%     223.500000    0.000000    2.000000   22.000000    0.000000   \n",
       "50%     446.000000    0.000000    3.000000   29.699118    0.000000   \n",
       "75%     668.500000    1.000000    3.000000   35.000000    1.000000   \n",
       "max     891.000000    1.000000    3.000000   80.000000    8.000000   \n",
       "\n",
       "            Parch        Fare  \n",
       "count  891.000000  891.000000  \n",
       "mean     0.381594   32.204208  \n",
       "std      0.806057   49.693429  \n",
       "min      0.000000    0.000000  \n",
       "25%      0.000000    7.910400  \n",
       "50%      0.000000   14.454200  \n",
       "75%      0.000000   31.000000  \n",
       "max      6.000000  512.329200  "
      ]
     },
     "execution_count": 6,
     "metadata": {},
     "output_type": "execute_result"
    }
   ],
   "source": [
    "df.describe()"
   ]
  },
  {
   "cell_type": "code",
   "execution_count": 7,
   "id": "a00b34ce-4664-4226-9fd2-5b4f85b87004",
   "metadata": {},
   "outputs": [
    {
     "data": {
      "image/png": "[encoded data removed]",
      "text/plain": [
       "<Figure size 640x480 with 1 Axes>"
      ]
     },
     "metadata": {},
     "output_type": "display_data"
    }
   ],
   "source": [
    "# Visualize distribution of age and fare\n",
    "sns.histplot(df.Age, bins = 30, kde=True)\n",
    "plt.show()"
   ]
  },
  {
   "cell_type": "code",
   "execution_count": 8,
   "id": "e699b0b9-c348-4951-a9e1-0eddc8126a99",
   "metadata": {},
   "outputs": [
    {
     "data": {
      "image/png": "[encoded data removed]",
      "text/plain": [
       "<Figure size 640x480 with 1 Axes>"
      ]
     },
     "metadata": {},
     "output_type": "display_data"
    }
   ],
   "source": [
    "plt.boxplot(df.Age, orientation='horizontal')\n",
    "plt.show()"
   ]
  },
  {
   "cell_type": "code",
   "execution_count": 9,
   "id": "ec5d8952-b6de-4755-a741-34dc58a16619",
   "metadata": {},
   "outputs": [
    {
     "data": {
      "image/png": "[encoded data removed]",
      "text/plain": [
       "<Figure size 640x480 with 1 Axes>"
      ]
     },
     "metadata": {},
     "output_type": "display_data"
    }
   ],
   "source": [
    "sns.histplot(df.Fare, bins = 30, kde=True)\n",
    "plt.show()"
   ]
  },
  {
   "cell_type": "code",
   "execution_count": 10,
   "id": "a3e2572d-c653-4bf6-93e0-6a08857e4c29",
   "metadata": {},
   "outputs": [
    {
     "data": {
      "image/png": "[encoded data removed]",
      "text/plain": [
       "<Figure size 640x480 with 1 Axes>"
      ]
     },
     "metadata": {},
     "output_type": "display_data"
    }
   ],
   "source": [
    "plt.boxplot(df.Fare, orientation='horizontal')\n",
    "plt.show()"
   ]
  },
  {
   "cell_type": "code",
   "execution_count": 11,
   "id": "0d825eda-cf20-422f-ba0c-33facae3b33f",
   "metadata": {},
   "outputs": [
    {
     "name": "stdout",
     "output_type": "stream",
     "text": [
      "Kurtosis for age: 0.9541389157820586\n",
      "Kurtosis for fare: 33.20428925264474\n"
     ]
    }
   ],
   "source": [
    "# See how kurtosis for both are different\n",
    "from scipy.stats import kurtosis\n",
    "\n",
    "kurt_age = kurtosis(df.Age, fisher=True)\n",
    "kurt_fare = kurtosis(df.Fare, fisher=True)\n",
    "\n",
    "print(f'Kurtosis for age: {kurt_age}')\n",
    "print(f'Kurtosis for fare: {kurt_fare}')"
   ]
  },
  {
   "cell_type": "markdown",
   "id": "393765db-f1bf-49f8-be45-2bc7a9f7b6fd",
   "metadata": {},
   "source": [
    "## Outlier Detection & IQR Method"
   ]
  },
  {
   "cell_type": "code",
   "execution_count": 12,
   "id": "e8a2355b-a35e-4f0d-983d-10a667d9440e",
   "metadata": {},
   "outputs": [],
   "source": [
    "# Detect outliers using IQR method\n",
    "\n",
    "Q1_age = df['Age'].quantile(0.25)\n",
    "Q3_age = df['Age'].quantile(0.75)\n",
    "IQR_age = Q3_age - Q1_age\n",
    "\n",
    "lower_bound_age = Q1_age - 1.5 * IQR_age\n",
    "upper_bound_age = Q3_age + 1.5 * IQR_age\n",
    "\n",
    "# filter values which are in the bounds\n",
    "age_without_outliers = df[(df['Age'] >= lower_bound_age) & (df['Age'] <= upper_bound_age)]\n",
    "\n",
    "\n",
    "# Calculations for fare\n",
    "Q1_fare = df['Fare'].quantile(0.25)\n",
    "Q3_fare = df['Fare'].quantile(0.75)\n",
    "IQR_fare = Q3_fare - Q1_fare\n",
    "\n",
    "lower_bound_fare = Q1_fare - 1.5 * IQR_fare\n",
    "upper_bound_fare = Q3_fare + 1.5 * IQR_fare\n",
    "\n",
    "# filter values which are in the bounds\n",
    "fare_without_outliers = df[(df['Fare'] >= lower_bound_fare) & (df['Fare'] <= upper_bound_fare)]"
   ]
  },
  {
   "cell_type": "code",
   "execution_count": 13,
   "id": "9fbfc6e0-053d-406e-acda-a8c989b80557",
   "metadata": {},
   "outputs": [
    {
     "data": {
      "image/png": "[encoded data removed]",
      "text/plain": [
       "<Figure size 640x480 with 1 Axes>"
      ]
     },
     "metadata": {},
     "output_type": "display_data"
    }
   ],
   "source": [
    "# Histogram and boxplots after removing outliers\n",
    "\n",
    "sns.histplot(age_without_outliers['Age'], bins=30, kde=True)\n",
    "plt.show()"
   ]
  },
  {
   "cell_type": "code",
   "execution_count": 14,
   "id": "13dc5ee8-83d1-4ff0-8d38-372d2857c849",
   "metadata": {},
   "outputs": [
    {
     "data": {
      "image/png": "[encoded data removed]",
      "text/plain": [
       "<Figure size 640x480 with 1 Axes>"
      ]
     },
     "metadata": {},
     "output_type": "display_data"
    }
   ],
   "source": [
    "sns.histplot(fare_without_outliers['Fare'], bins=30, kde=True)\n",
    "plt.show()"
   ]
  },
  {
   "cell_type": "code",
   "execution_count": 15,
   "id": "b5a509dd-3876-4a64-9620-57e6e2690cc1",
   "metadata": {},
   "outputs": [
    {
     "data": {
      "image/png": "[encoded data removed]",
      "text/plain": [
       "<Figure size 640x480 with 1 Axes>"
      ]
     },
     "metadata": {},
     "output_type": "display_data"
    }
   ],
   "source": [
    "plt.boxplot(age_without_outliers['Age'], orientation='horizontal')\n",
    "plt.show()"
   ]
  },
  {
   "cell_type": "code",
   "execution_count": 16,
   "id": "a53d2156-4984-4661-9d61-72daa289f602",
   "metadata": {},
   "outputs": [
    {
     "data": {
      "image/png": "[encoded data removed]",
      "text/plain": [
       "<Figure size 640x480 with 1 Axes>"
      ]
     },
     "metadata": {},
     "output_type": "display_data"
    }
   ],
   "source": [
    "plt.boxplot(fare_without_outliers['Fare'], orientation='horizontal')\n",
    "plt.show()"
   ]
  },
  {
   "cell_type": "code",
   "execution_count": 17,
   "id": "4cfbe46f-495f-411c-9902-17adbe1e4495",
   "metadata": {},
   "outputs": [
    {
     "name": "stdout",
     "output_type": "stream",
     "text": [
      "Kurtosis for age: 0.32418382767557397\n",
      "Kurtosis for fare: 1.4554560640283647\n"
     ]
    }
   ],
   "source": [
    "# See if this impacted kurtosis score\n",
    "kurt_new_age = kurtosis(age_without_outliers['Age'])\n",
    "kurt_new_fare = kurtosis(fare_without_outliers['Fare'])\n",
    "\n",
    "print(f'Kurtosis for age: {kurt_new_age}')\n",
    "print(f'Kurtosis for fare: {kurt_new_fare}')"
   ]
  },
  {
   "cell_type": "code",
   "execution_count": 18,
   "id": "6c1eba71-c5ed-4b68-ba28-9e74e330c34e",
   "metadata": {},
   "outputs": [
    {
     "data": {
      "text/html": [
       "<div>\n",
       "<style scoped>\n",
       "    .dataframe tbody tr th:only-of-type {\n",
       "        vertical-align: middle;\n",
       "    }\n",
       "\n",
       "    .dataframe tbody tr th {\n",
       "        vertical-align: top;\n",
       "    }\n",
       "\n",
       "    .dataframe thead th {\n",
       "        text-align: right;\n",
       "    }\n",
       "</style>\n",
       "<table border=\"1\" class=\"dataframe\">\n",
       "  <thead>\n",
       "    <tr style=\"text-align: right;\">\n",
       "      <th></th>\n",
       "      <th>PassengerId</th>\n",
       "      <th>Survived</th>\n",
       "      <th>Pclass</th>\n",
       "      <th>Name</th>\n",
       "      <th>Sex</th>\n",
       "      <th>Age</th>\n",
       "      <th>SibSp</th>\n",
       "      <th>Parch</th>\n",
       "      <th>Ticket</th>\n",
       "      <th>Fare</th>\n",
       "      <th>z-score-age</th>\n",
       "      <th>z-score-fare</th>\n",
       "    </tr>\n",
       "  </thead>\n",
       "  <tbody>\n",
       "    <tr>\n",
       "      <th>0</th>\n",
       "      <td>1</td>\n",
       "      <td>0</td>\n",
       "      <td>3</td>\n",
       "      <td>Braund, Mr. Owen Harris</td>\n",
       "      <td>male</td>\n",
       "      <td>22.0</td>\n",
       "      <td>1</td>\n",
       "      <td>0</td>\n",
       "      <td>A/5 21171</td>\n",
       "      <td>7.2500</td>\n",
       "      <td>0.592481</td>\n",
       "      <td>0.502445</td>\n",
       "    </tr>\n",
       "    <tr>\n",
       "      <th>1</th>\n",
       "      <td>2</td>\n",
       "      <td>1</td>\n",
       "      <td>1</td>\n",
       "      <td>Cumings, Mrs. John Bradley (Florence Briggs Th...</td>\n",
       "      <td>female</td>\n",
       "      <td>38.0</td>\n",
       "      <td>1</td>\n",
       "      <td>0</td>\n",
       "      <td>PC 17599</td>\n",
       "      <td>71.2833</td>\n",
       "      <td>0.638789</td>\n",
       "      <td>0.786845</td>\n",
       "    </tr>\n",
       "    <tr>\n",
       "      <th>2</th>\n",
       "      <td>3</td>\n",
       "      <td>1</td>\n",
       "      <td>3</td>\n",
       "      <td>Heikkinen, Miss. Laina</td>\n",
       "      <td>female</td>\n",
       "      <td>26.0</td>\n",
       "      <td>0</td>\n",
       "      <td>0</td>\n",
       "      <td>STON/O2. 3101282</td>\n",
       "      <td>7.9250</td>\n",
       "      <td>0.284663</td>\n",
       "      <td>0.488854</td>\n",
       "    </tr>\n",
       "    <tr>\n",
       "      <th>3</th>\n",
       "      <td>4</td>\n",
       "      <td>1</td>\n",
       "      <td>1</td>\n",
       "      <td>Futrelle, Mrs. Jacques Heath (Lily May Peel)</td>\n",
       "      <td>female</td>\n",
       "      <td>35.0</td>\n",
       "      <td>1</td>\n",
       "      <td>0</td>\n",
       "      <td>113803</td>\n",
       "      <td>53.1000</td>\n",
       "      <td>0.407926</td>\n",
       "      <td>0.420730</td>\n",
       "    </tr>\n",
       "    <tr>\n",
       "      <th>4</th>\n",
       "      <td>5</td>\n",
       "      <td>0</td>\n",
       "      <td>3</td>\n",
       "      <td>Allen, Mr. William Henry</td>\n",
       "      <td>male</td>\n",
       "      <td>35.0</td>\n",
       "      <td>0</td>\n",
       "      <td>0</td>\n",
       "      <td>373450</td>\n",
       "      <td>8.0500</td>\n",
       "      <td>0.407926</td>\n",
       "      <td>0.486337</td>\n",
       "    </tr>\n",
       "  </tbody>\n",
       "</table>\n",
       "</div>"
      ],
      "text/plain": [
       "   PassengerId  Survived  Pclass  \\\n",
       "0            1         0       3   \n",
       "1            2         1       1   \n",
       "2            3         1       3   \n",
       "3            4         1       1   \n",
       "4            5         0       3   \n",
       "\n",
       "                                                Name     Sex   Age  SibSp  \\\n",
       "0                            Braund, Mr. Owen Harris    male  22.0      1   \n",
       "1  Cumings, Mrs. John Bradley (Florence Briggs Th...  female  38.0      1   \n",
       "2                             Heikkinen, Miss. Laina  female  26.0      0   \n",
       "3       Futrelle, Mrs. Jacques Heath (Lily May Peel)  female  35.0      1   \n",
       "4                           Allen, Mr. William Henry    male  35.0      0   \n",
       "\n",
       "   Parch            Ticket     Fare  z-score-age  z-score-fare  \n",
       "0      0         A/5 21171   7.2500     0.592481      0.502445  \n",
       "1      0          PC 17599  71.2833     0.638789      0.786845  \n",
       "2      0  STON/O2. 3101282   7.9250     0.284663      0.488854  \n",
       "3      0            113803  53.1000     0.407926      0.420730  \n",
       "4      0            373450   8.0500     0.407926      0.486337  "
      ]
     },
     "execution_count": 18,
     "metadata": {},
     "output_type": "execute_result"
    }
   ],
   "source": [
    "# Filtering using z-score {should be used only when data distribution is normal and not with skewed data}\n",
    "# So in our case it should give abnormal results for Fare\n",
    "from scipy.stats import zscore\n",
    "import numpy as np\n",
    "\n",
    "df['z-score-age'] = np.abs(zscore(df['Age']))\n",
    "df['z-score-fare'] = np.abs(zscore(df['Fare']))\n",
    "\n",
    "df.head()"
   ]
  },
  {
   "cell_type": "code",
   "execution_count": 19,
   "id": "560a6e29-9a98-4dcc-bb35-cdb0a9f36319",
   "metadata": {},
   "outputs": [],
   "source": [
    "z_score_outlier_threshold = 3\n",
    "\n",
    "\n",
    "age_without_outliers_zscore = df[df['z-score-age'] < z_score_outlier_threshold]\n",
    "fare_without_outliers_zscore = df[df['z-score-fare'] < z_score_outlier_threshold]"
   ]
  },
  {
   "cell_type": "code",
   "execution_count": 20,
   "id": "4df44382-4697-415c-9c69-769edbd71cb5",
   "metadata": {},
   "outputs": [
    {
     "data": {
      "image/png": "[encoded data removed]",
      "text/plain": [
       "<Figure size 640x480 with 1 Axes>"
      ]
     },
     "metadata": {},
     "output_type": "display_data"
    }
   ],
   "source": [
    "# Updated plots with z-score technique\n",
    "\n",
    "sns.histplot(age_without_outliers_zscore['Age'], bins=30, kde=True)\n",
    "plt.show()"
   ]
  },
  {
   "cell_type": "code",
   "execution_count": 21,
   "id": "308dcb0c-f3f6-4231-8dc7-44fc7a687a86",
   "metadata": {},
   "outputs": [
    {
     "data": {
      "image/png": "[encoded data removed]",
      "text/plain": [
       "<Figure size 640x480 with 1 Axes>"
      ]
     },
     "metadata": {},
     "output_type": "display_data"
    }
   ],
   "source": [
    "\n",
    "sns.histplot(fare_without_outliers_zscore['Fare'], bins=30, kde=True)\n",
    "plt.show()"
   ]
  },
  {
   "cell_type": "code",
   "execution_count": 22,
   "id": "81ea7b9e-2e41-4fa9-806b-df64bed8610a",
   "metadata": {},
   "outputs": [
    {
     "data": {
      "image/png": "[encoded data removed]",
      "text/plain": [
       "<Figure size 640x480 with 1 Axes>"
      ]
     },
     "metadata": {},
     "output_type": "display_data"
    }
   ],
   "source": [
    "plt.boxplot(age_without_outliers_zscore['Age'], orientation='horizontal')\n",
    "plt.show()"
   ]
  },
  {
   "cell_type": "code",
   "execution_count": 23,
   "id": "8334dc0d-5426-4094-aa82-d3056012892c",
   "metadata": {},
   "outputs": [
    {
     "data": {
      "image/png": "[encoded data removed]",
      "text/plain": [
       "<Figure size 640x480 with 1 Axes>"
      ]
     },
     "metadata": {},
     "output_type": "display_data"
    }
   ],
   "source": [
    "plt.boxplot(fare_without_outliers_zscore['Fare'], orientation='horizontal')\n",
    "plt.show()"
   ]
  },
  {
   "cell_type": "code",
   "execution_count": 24,
   "id": "bdfc097d-0835-4a66-9897-3ca288a4a657",
   "metadata": {},
   "outputs": [
    {
     "name": "stdout",
     "output_type": "stream",
     "text": [
      "Kurtosis for age: 0.5904572341366148\n",
      "Kurtosis for fare: 5.266968870155699\n"
     ]
    }
   ],
   "source": [
    "kurt_new_age_zscore = kurtosis(age_without_outliers_zscore['Age'])\n",
    "kurt_new_fare_zscore = kurtosis(fare_without_outliers_zscore['Fare'])\n",
    "\n",
    "print(f'Kurtosis for age: {kurt_new_age_zscore}')\n",
    "print(f'Kurtosis for fare: {kurt_new_fare_zscore}')"
   ]
  },
  {
   "cell_type": "code",
   "execution_count": 25,
   "id": "98568e87-1777-4e77-9740-e2f83b0dac15",
   "metadata": {},
   "outputs": [],
   "source": [
    "# As expected IQR performed better becuase both the destributions were not totally normal destributions"
   ]
  },
  {
   "cell_type": "markdown",
   "id": "1a36e8f9-dfd3-4182-9e3e-7e05a867dc9e",
   "metadata": {},
   "source": [
    "## Confidence interval"
   ]
  },
  {
   "cell_type": "code",
   "execution_count": 26,
   "id": "94077627-9243-4b9a-9ef5-2e79912be399",
   "metadata": {},
   "outputs": [],
   "source": [
    "# Calculate a 95% confidence interval for average passenger age."
   ]
  },
  {
   "cell_type": "code",
   "execution_count": 27,
   "id": "71aa8f94-b148-4370-8cab-866e72a0b68c",
   "metadata": {},
   "outputs": [
    {
     "data": {
      "text/plain": [
       "<Axes: >"
      ]
     },
     "execution_count": 27,
     "metadata": {},
     "output_type": "execute_result"
    },
    {
     "data": {
      "image/png": "[encoded data removed]",
      "text/plain": [
       "<Figure size 640x480 with 1 Axes>"
      ]
     },
     "metadata": {},
     "output_type": "display_data"
    }
   ],
   "source": [
    "df.Age.hist(bins=30) # 95% of pass. ages should fall within 20-50 range by looking at hist"
   ]
  },
  {
   "cell_type": "code",
   "execution_count": 28,
   "id": "f8b31e6d-9389-4db9-b55b-e59760d5aed3",
   "metadata": {},
   "outputs": [
    {
     "name": "stdout",
     "output_type": "stream",
     "text": [
      "Lower bound of age: 28.845388892334977\n",
      "Upper bound of age: 30.552846401782663\n"
     ]
    }
   ],
   "source": [
    "import scipy.stats as stats\n",
    "\n",
    "sample_size = len(df.Age)\n",
    "sample_mean = df.Age.mean()\n",
    "confidence_level = 0.95\n",
    "\n",
    "z_score = stats.norm.ppf(1 - (1 - confidence_level) / 2)\n",
    "margin_of_error = z_score * (df.Age.std(ddof=1) / np.sqrt(sample_size))\n",
    "\n",
    "lower_bound = sample_mean - margin_of_error\n",
    "upper_bound = sample_mean + margin_of_error\n",
    "\n",
    "print(f\"Lower bound of age: {lower_bound}\")\n",
    "print(f\"Upper bound of age: {upper_bound}\")"
   ]
  },
  {
   "cell_type": "code",
   "execution_count": 29,
   "id": "43c37aff-ba27-4698-89f7-825c1ab1a0a9",
   "metadata": {},
   "outputs": [
    {
     "name": "stdout",
     "output_type": "stream",
     "text": [
      "Lower bound of age: 28.845388892334977\n",
      "Upper bound of age: 30.552846401782663\n"
     ]
    }
   ],
   "source": [
    "# Using scipy's inbuilt method to do the same\n",
    "low, upper = stats.norm.interval(confidence_level, loc = sample_mean, scale = df.Age.std(ddof=1) / np.sqrt(sample_size))\n",
    "\n",
    "print(f\"Lower bound of age: {low}\")\n",
    "print(f\"Upper bound of age: {upper}\")"
   ]
  },
  {
   "cell_type": "markdown",
   "id": "759699bf-8bf5-4409-ae44-e723f7165dee",
   "metadata": {},
   "source": [
    "## Hypothesis testing"
   ]
  },
  {
   "cell_type": "code",
   "execution_count": 30,
   "id": "96370d2e-4b2e-4131-957c-5f03126942f7",
   "metadata": {},
   "outputs": [],
   "source": [
    "# Test if the mean fare of male vs. female passengers is significantly different."
   ]
  },
  {
   "cell_type": "code",
   "execution_count": 31,
   "id": "f862da90-83c4-4639-ae0c-3e2750a3de34",
   "metadata": {},
   "outputs": [
    {
     "name": "stdout",
     "output_type": "stream",
     "text": [
      "10.5\n",
      "23.0\n"
     ]
    }
   ],
   "source": [
    "df['sex_bool'] = df['Sex'].map(lambda x: 0 if x == \"male\" else 1)\n",
    "df.head()\n",
    "\n",
    "df_male = df[(df['sex_bool'] == 0)]\n",
    "df_female = df[(df['sex_bool'] == 1)]\n",
    "\n",
    "print(df_male['Fare'].median())\n",
    "print(df_female['Fare'].median())\n",
    "\n",
    "# So we can hypothetically assume that avg fare of female was higher than male"
   ]
  },
  {
   "cell_type": "code",
   "execution_count": 32,
   "id": "914155b9-b9a0-46d0-b760-6c8745c5378f",
   "metadata": {},
   "outputs": [
    {
     "data": {
      "image/png": "[encoded data removed]",
      "text/plain": [
       "<Figure size 640x480 with 1 Axes>"
      ]
     },
     "metadata": {},
     "output_type": "display_data"
    }
   ],
   "source": [
    "plt.hist(x=df_male.Fare, bins=30)\n",
    "plt.show()"
   ]
  },
  {
   "cell_type": "code",
   "execution_count": 33,
   "id": "ed11ed1b-b38a-4584-ae60-15cdc7abeb6e",
   "metadata": {},
   "outputs": [
    {
     "data": {
      "image/png": "[encoded data removed]",
      "text/plain": [
       "<Figure size 640x480 with 1 Axes>"
      ]
     },
     "metadata": {},
     "output_type": "display_data"
    }
   ],
   "source": [
    "plt.hist(x=df_female.Fare, bins=30)\n",
    "plt.show()"
   ]
  },
  {
   "cell_type": "code",
   "execution_count": 34,
   "id": "d108c4cd-d352-49e3-838f-1107ce7e3c63",
   "metadata": {},
   "outputs": [
    {
     "name": "stdout",
     "output_type": "stream",
     "text": [
      "P-Val for the data was: 4.230867870042998e-08\n"
     ]
    }
   ],
   "source": [
    "# H0 -> Average ticket fare for both men and women was equal\n",
    "# H1 -> Female paid higher price for tickets\n",
    "\n",
    "t_stat, p_val = stats.ttest_ind(df_male['Fare'], df_female['Fare'])\n",
    "\n",
    "print(f\"P-Val for the data was: {p_val}\")\n",
    "\n",
    "# This means we can reject the null hypothesis (H0) and females actually paid higher prices for ticket than men."
   ]
  },
  {
   "cell_type": "markdown",
   "id": "457f0f86-ed43-4109-83ce-5d5225e5d310",
   "metadata": {},
   "source": [
    "# Chi-Squared test"
   ]
  },
  {
   "cell_type": "code",
   "execution_count": 35,
   "id": "d4296091-a2d9-4683-a58b-ea1a3f0f0ac7",
   "metadata": {},
   "outputs": [],
   "source": [
    "# Task: Test if \"Survival\" is dependent on \"Gender\" using a chi-square test."
   ]
  },
  {
   "cell_type": "code",
   "execution_count": 36,
   "id": "c99326b9-2e7f-49c2-82c9-c3c784dbe0b3",
   "metadata": {},
   "outputs": [
    {
     "data": {
      "image/png": "[encoded data removed]",
      "text/plain": [
       "<Figure size 640x480 with 1 Axes>"
      ]
     },
     "metadata": {},
     "output_type": "display_data"
    }
   ],
   "source": [
    "# Countplot for checking survival rates of males and females\n",
    "sns.countplot(x = 'Sex', data=df, hue=\"Survived\")\n",
    "plt.show() # It gives us an hypthesis that females survived more than male"
   ]
  },
  {
   "cell_type": "code",
   "execution_count": 37,
   "id": "ba19e84a-8cd4-40e8-9b6e-85614e09783e",
   "metadata": {},
   "outputs": [
    {
     "data": {
      "text/html": [
       "<div>\n",
       "<style scoped>\n",
       "    .dataframe tbody tr th:only-of-type {\n",
       "        vertical-align: middle;\n",
       "    }\n",
       "\n",
       "    .dataframe tbody tr th {\n",
       "        vertical-align: top;\n",
       "    }\n",
       "\n",
       "    .dataframe thead th {\n",
       "        text-align: right;\n",
       "    }\n",
       "</style>\n",
       "<table border=\"1\" class=\"dataframe\">\n",
       "  <thead>\n",
       "    <tr style=\"text-align: right;\">\n",
       "      <th>Survived</th>\n",
       "      <th>0</th>\n",
       "      <th>1</th>\n",
       "    </tr>\n",
       "    <tr>\n",
       "      <th>Sex</th>\n",
       "      <th></th>\n",
       "      <th></th>\n",
       "    </tr>\n",
       "  </thead>\n",
       "  <tbody>\n",
       "    <tr>\n",
       "      <th>female</th>\n",
       "      <td>81</td>\n",
       "      <td>233</td>\n",
       "    </tr>\n",
       "    <tr>\n",
       "      <th>male</th>\n",
       "      <td>468</td>\n",
       "      <td>109</td>\n",
       "    </tr>\n",
       "  </tbody>\n",
       "</table>\n",
       "</div>"
      ],
      "text/plain": [
       "Survived    0    1\n",
       "Sex               \n",
       "female     81  233\n",
       "male      468  109"
      ]
     },
     "execution_count": 37,
     "metadata": {},
     "output_type": "execute_result"
    }
   ],
   "source": [
    "# Test the above hyp.\n",
    "# H0 -> Females survived less\n",
    "# H1 -> Females survided more\n",
    "# p < 0.01 discard H0\n",
    "\n",
    "\n",
    "contigentcy_table = pd.crosstab(df['Sex'], df['Survived'])\n",
    "contigentcy_table"
   ]
  },
  {
   "cell_type": "code",
   "execution_count": 38,
   "id": "b69b9b59-272c-41c6-975e-100ee4cbf3b9",
   "metadata": {},
   "outputs": [
    {
     "name": "stdout",
     "output_type": "stream",
     "text": [
      "260.71702016732104\n",
      "1.197357062775565e-58\n"
     ]
    }
   ],
   "source": [
    "chi2, p, dof, expected = stats.chi2_contingency(contigentcy_table)\n",
    "print(chi2)\n",
    "print(p)\n"
   ]
  },
  {
   "cell_type": "code",
   "execution_count": 39,
   "id": "2f579a02-f7d6-4bc2-9e03-4df1f5de0147",
   "metadata": {},
   "outputs": [],
   "source": [
    "# Task: Determine the required sample size for testing if 1st class passengers had a survival advantage."
   ]
  },
  {
   "cell_type": "code",
   "execution_count": 40,
   "id": "9e836294-ace9-423c-9480-ed97871d9631",
   "metadata": {},
   "outputs": [
    {
     "data": {
      "text/html": [
       "<div>\n",
       "<style scoped>\n",
       "    .dataframe tbody tr th:only-of-type {\n",
       "        vertical-align: middle;\n",
       "    }\n",
       "\n",
       "    .dataframe tbody tr th {\n",
       "        vertical-align: top;\n",
       "    }\n",
       "\n",
       "    .dataframe thead th {\n",
       "        text-align: right;\n",
       "    }\n",
       "</style>\n",
       "<table border=\"1\" class=\"dataframe\">\n",
       "  <thead>\n",
       "    <tr style=\"text-align: right;\">\n",
       "      <th></th>\n",
       "      <th>PassengerId</th>\n",
       "      <th>Survived</th>\n",
       "      <th>Pclass</th>\n",
       "      <th>Name</th>\n",
       "      <th>Sex</th>\n",
       "      <th>Age</th>\n",
       "      <th>SibSp</th>\n",
       "      <th>Parch</th>\n",
       "      <th>Ticket</th>\n",
       "      <th>Fare</th>\n",
       "      <th>z-score-age</th>\n",
       "      <th>z-score-fare</th>\n",
       "      <th>sex_bool</th>\n",
       "    </tr>\n",
       "  </thead>\n",
       "  <tbody>\n",
       "    <tr>\n",
       "      <th>0</th>\n",
       "      <td>1</td>\n",
       "      <td>0</td>\n",
       "      <td>3</td>\n",
       "      <td>Braund, Mr. Owen Harris</td>\n",
       "      <td>male</td>\n",
       "      <td>22.0</td>\n",
       "      <td>1</td>\n",
       "      <td>0</td>\n",
       "      <td>A/5 21171</td>\n",
       "      <td>7.2500</td>\n",
       "      <td>0.592481</td>\n",
       "      <td>0.502445</td>\n",
       "      <td>0</td>\n",
       "    </tr>\n",
       "    <tr>\n",
       "      <th>1</th>\n",
       "      <td>2</td>\n",
       "      <td>1</td>\n",
       "      <td>1</td>\n",
       "      <td>Cumings, Mrs. John Bradley (Florence Briggs Th...</td>\n",
       "      <td>female</td>\n",
       "      <td>38.0</td>\n",
       "      <td>1</td>\n",
       "      <td>0</td>\n",
       "      <td>PC 17599</td>\n",
       "      <td>71.2833</td>\n",
       "      <td>0.638789</td>\n",
       "      <td>0.786845</td>\n",
       "      <td>1</td>\n",
       "    </tr>\n",
       "    <tr>\n",
       "      <th>2</th>\n",
       "      <td>3</td>\n",
       "      <td>1</td>\n",
       "      <td>3</td>\n",
       "      <td>Heikkinen, Miss. Laina</td>\n",
       "      <td>female</td>\n",
       "      <td>26.0</td>\n",
       "      <td>0</td>\n",
       "      <td>0</td>\n",
       "      <td>STON/O2. 3101282</td>\n",
       "      <td>7.9250</td>\n",
       "      <td>0.284663</td>\n",
       "      <td>0.488854</td>\n",
       "      <td>1</td>\n",
       "    </tr>\n",
       "    <tr>\n",
       "      <th>3</th>\n",
       "      <td>4</td>\n",
       "      <td>1</td>\n",
       "      <td>1</td>\n",
       "      <td>Futrelle, Mrs. Jacques Heath (Lily May Peel)</td>\n",
       "      <td>female</td>\n",
       "      <td>35.0</td>\n",
       "      <td>1</td>\n",
       "      <td>0</td>\n",
       "      <td>113803</td>\n",
       "      <td>53.1000</td>\n",
       "      <td>0.407926</td>\n",
       "      <td>0.420730</td>\n",
       "      <td>1</td>\n",
       "    </tr>\n",
       "    <tr>\n",
       "      <th>4</th>\n",
       "      <td>5</td>\n",
       "      <td>0</td>\n",
       "      <td>3</td>\n",
       "      <td>Allen, Mr. William Henry</td>\n",
       "      <td>male</td>\n",
       "      <td>35.0</td>\n",
       "      <td>0</td>\n",
       "      <td>0</td>\n",
       "      <td>373450</td>\n",
       "      <td>8.0500</td>\n",
       "      <td>0.407926</td>\n",
       "      <td>0.486337</td>\n",
       "      <td>0</td>\n",
       "    </tr>\n",
       "  </tbody>\n",
       "</table>\n",
       "</div>"
      ],
      "text/plain": [
       "   PassengerId  Survived  Pclass  \\\n",
       "0            1         0       3   \n",
       "1            2         1       1   \n",
       "2            3         1       3   \n",
       "3            4         1       1   \n",
       "4            5         0       3   \n",
       "\n",
       "                                                Name     Sex   Age  SibSp  \\\n",
       "0                            Braund, Mr. Owen Harris    male  22.0      1   \n",
       "1  Cumings, Mrs. John Bradley (Florence Briggs Th...  female  38.0      1   \n",
       "2                             Heikkinen, Miss. Laina  female  26.0      0   \n",
       "3       Futrelle, Mrs. Jacques Heath (Lily May Peel)  female  35.0      1   \n",
       "4                           Allen, Mr. William Henry    male  35.0      0   \n",
       "\n",
       "   Parch            Ticket     Fare  z-score-age  z-score-fare  sex_bool  \n",
       "0      0         A/5 21171   7.2500     0.592481      0.502445         0  \n",
       "1      0          PC 17599  71.2833     0.638789      0.786845         1  \n",
       "2      0  STON/O2. 3101282   7.9250     0.284663      0.488854         1  \n",
       "3      0            113803  53.1000     0.407926      0.420730         1  \n",
       "4      0            373450   8.0500     0.407926      0.486337         0  "
      ]
     },
     "execution_count": 40,
     "metadata": {},
     "output_type": "execute_result"
    }
   ],
   "source": [
    "df.head()"
   ]
  },
  {
   "cell_type": "code",
   "execution_count": 41,
   "id": "93f4e803-d765-4f9c-a498-6bf3b65f8e7b",
   "metadata": {},
   "outputs": [
    {
     "data": {
      "image/png": "[encoded data removed]",
      "text/plain": [
       "<Figure size 640x480 with 1 Axes>"
      ]
     },
     "metadata": {},
     "output_type": "display_data"
    }
   ],
   "source": [
    "# Lets fist visualise countplot between pClass and survived\n",
    "\n",
    "sns.countplot(x = 'Pclass', data = df, hue='Survived')\n",
    "plt.show()\n",
    "\n",
    "# So our graph says so. That the chances of you suriviving if you were in a First class were quite high than in 3rd"
   ]
  },
  {
   "cell_type": "code",
   "execution_count": 43,
   "id": "d5bc88e4-c7e0-4ab8-afd9-b7ec34f60122",
   "metadata": {},
   "outputs": [
    {
     "name": "stdout",
     "output_type": "stream",
     "text": [
      "Required sample size per group: 28.17387683126524\n"
     ]
    }
   ],
   "source": [
    "# Let's calculate the required sample size to test this hypothesis or do Power Analayis\n",
    "from statsmodels.stats.power import NormalIndPower\n",
    "from statsmodels.stats.proportion import proportion_effectsize\n",
    "\n",
    "first_class_df = df[df['Pclass'] == 1]['Survived'].mean()\n",
    "other_classes_df = df[df['Pclass'] != 1]['Survived'].mean()\n",
    "\n",
    "effect_size = proportion_effectsize(first_class_df, other_classes_df)\n",
    "\n",
    "power_analysis = NormalIndPower()\n",
    "sample_size = power_analysis.solve_power(alpha=0.05, power=0.8, effect_size=effect_size, alternative='larger')\n",
    "\n",
    "print(f\"Required sample size per group: {sample_size}\")"
   ]
  },
  {
   "cell_type": "code",
   "execution_count": 44,
   "id": "eb475c14-4fe2-4ac9-bd12-eb5e36dcb879",
   "metadata": {},
   "outputs": [
    {
     "data": {
      "text/plain": [
       "Chi2ContingencyResult(statistic=np.float64(102.88898875696056), pvalue=np.float64(4.549251711298793e-23), dof=2, expected_freq=array([[133.09090909,  82.90909091],\n",
       "       [113.37373737,  70.62626263],\n",
       "       [302.53535354, 188.46464646]]))"
      ]
     },
     "execution_count": 44,
     "metadata": {},
     "output_type": "execute_result"
    }
   ],
   "source": [
    "# Lets run a chi-2 test to test out our hypothesis, as we already have more than 28 data point\n",
    "\n",
    "c_table = pd.crosstab(df['Pclass'], df['Survived'])\n",
    "res = stats.chi2_contingency(c_table)\n",
    "res"
   ]
  },
  {
   "cell_type": "code",
   "execution_count": null,
   "id": "1ce8a303-eec4-44ea-83a2-05b8136f32a9",
   "metadata": {},
   "outputs": [],
   "source": [
    "# Yes so we can say that our hypothesis about being in 1st class and getting more chances of survival was correct"
   ]
  },
  {
   "cell_type": "markdown",
   "id": "5ef6c45f-e61a-48db-9b07-e015ee93438f",
   "metadata": {},
   "source": [
    "# Task: Compare \"Fare\" across different \"Passenger Classes\" using ANOVA."
   ]
  },
  {
   "cell_type": "code",
   "execution_count": 69,
   "id": "fa2e715a-803e-46d2-9301-c7c5c0e90cdc",
   "metadata": {},
   "outputs": [
    {
     "name": "stdout",
     "output_type": "stream",
     "text": [
      "                 sum_sq     df           F        PR(>F)\n",
      "C(Pclass)  7.760301e+05    2.0  242.344157  1.031376e-84\n",
      "Residual   1.421769e+06  888.0         NaN           NaN\n"
     ]
    }
   ],
   "source": [
    "# As we're only checking how one categorical variable (Pclass) affects one numerical variable (Fare).\n",
    "# We will use 1-way ANOVA\n",
    "\n",
    "import statsmodels.api as sm\n",
    "from statsmodels.formula.api import ols\n",
    "\n",
    "model = ols('Fare ~ C(Pclass)', data = df).fit()\n",
    "table = sm.stats.anova_lm(model, typ=2)\n",
    "print(table)"
   ]
  },
  {
   "cell_type": "code",
   "execution_count": 72,
   "id": "744d1546-fe67-477d-a295-3b346ad1400a",
   "metadata": {},
   "outputs": [
    {
     "data": {
      "text/html": [
       "<table class=\"simpletable\">\n",
       "<caption>Multiple Comparison of Means - Tukey HSD, FWER=0.05</caption>\n",
       "<tr>\n",
       "  <th>group1</th> <th>group2</th> <th>meandiff</th> <th>p-adj</th>   <th>lower</th>    <th>upper</th>  <th>reject</th>\n",
       "</tr>\n",
       "<tr>\n",
       "     <td>1</td>      <td>2</td>   <td>-63.4925</td>  <td>0.0</td>  <td>-72.9165</td> <td>-54.0685</td>  <td>True</td> \n",
       "</tr>\n",
       "<tr>\n",
       "     <td>1</td>      <td>3</td>   <td>-70.4791</td>  <td>0.0</td>  <td>-78.1489</td> <td>-62.8094</td>  <td>True</td> \n",
       "</tr>\n",
       "<tr>\n",
       "     <td>2</td>      <td>3</td>    <td>-6.9866</td> <td>0.108</td> <td>-15.1064</td>  <td>1.1331</td>   <td>False</td>\n",
       "</tr>\n",
       "</table>"
      ],
      "text/latex": [
       "\\begin{center}\n",
       "\\begin{tabular}{ccccccc}\n",
       "\\toprule\n",
       "\\textbf{group1} & \\textbf{group2} & \\textbf{meandiff} & \\textbf{p-adj} & \\textbf{lower} & \\textbf{upper} & \\textbf{reject}  \\\\\n",
       "\\midrule\n",
       "       1        &        2        &      -63.4925     &      0.0       &    -72.9165    &    -54.0685    &       True       \\\\\n",
       "       1        &        3        &      -70.4791     &      0.0       &    -78.1489    &    -62.8094    &       True       \\\\\n",
       "       2        &        3        &      -6.9866      &     0.108      &    -15.1064    &     1.1331     &      False       \\\\\n",
       "\\bottomrule\n",
       "\\end{tabular}\n",
       "%\\caption{Multiple Comparison of Means - Tukey HSD, FWER=0.05}\n",
       "\\end{center}"
      ],
      "text/plain": [
       "<class 'statsmodels.iolib.table.SimpleTable'>"
      ]
     },
     "execution_count": 72,
     "metadata": {},
     "output_type": "execute_result"
    }
   ],
   "source": [
    "# It means yes, there's a signifcant amount of price difference between the tickets based on class\n",
    "# Lets find out the culprit with turke hsd test\n",
    "\n",
    "from statsmodels.stats.multicomp import pairwise_tukeyhsd\n",
    "\n",
    "tukey = pairwise_tukeyhsd(endog=df['Fare'], groups=df['Pclass'], alpha=0.05)\n",
    "tukey.summary()\n",
    "\n",
    "# As the table also suggests\n",
    "# Difference in fare between 1 and 2/3 classes is hightest and null hyp. can be rejected"
   ]
  },
  {
   "cell_type": "code",
   "execution_count": null,
   "id": "9151d1b9-1df7-41f6-ae0a-36c52b03eff0",
   "metadata": {},
   "outputs": [],
   "source": []
  }
 ],
 "metadata": {
  "kernelspec": {
   "display_name": "myenv",
   "language": "python",
   "name": "myenv"
  },
  "language_info": {
   "codemirror_mode": {
    "name": "ipython",
    "version": 3
   },
   "file_extension": ".py",
   "mimetype": "text/x-python",
   "name": "python",
   "nbconvert_exporter": "python",
   "pygments_lexer": "ipython3",
   "version": "3.13.2"
  }
 },
 "nbformat": 4,
 "nbformat_minor": 5
}
